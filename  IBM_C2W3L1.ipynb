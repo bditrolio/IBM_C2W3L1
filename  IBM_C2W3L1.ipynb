{
    "cells": [
        {
            "metadata": {
                "collapsed": true
            },
            "cell_type": "markdown",
            "source": "### This concludes the tutorial for IBM_C2W3L1\n\n"
        },
        {
            "metadata": {},
            "cell_type": "code",
            "source": "import numpy as np\nimport pandas as pd",
            "execution_count": 7,
            "outputs": []
        },
        {
            "metadata": {},
            "cell_type": "code",
            "source": "a = np.ones([2,3,3]) # 2 x 3 x 3 tensor",
            "execution_count": 2,
            "outputs": []
        },
        {
            "metadata": {},
            "cell_type": "code",
            "source": "a",
            "execution_count": 3,
            "outputs": [
                {
                    "output_type": "execute_result",
                    "execution_count": 3,
                    "data": {
                        "text/plain": "array([[[1., 1., 1.],\n        [1., 1., 1.],\n        [1., 1., 1.]],\n\n       [[1., 1., 1.],\n        [1., 1., 1.],\n        [1., 1., 1.]]])"
                    },
                    "metadata": {}
                }
            ]
        },
        {
            "metadata": {},
            "cell_type": "code",
            "source": "b = np.ones([2,2,3,3])",
            "execution_count": 4,
            "outputs": []
        },
        {
            "metadata": {},
            "cell_type": "code",
            "source": "b",
            "execution_count": 5,
            "outputs": [
                {
                    "output_type": "execute_result",
                    "execution_count": 5,
                    "data": {
                        "text/plain": "array([[[[1., 1., 1.],\n         [1., 1., 1.],\n         [1., 1., 1.]],\n\n        [[1., 1., 1.],\n         [1., 1., 1.],\n         [1., 1., 1.]]],\n\n\n       [[[1., 1., 1.],\n         [1., 1., 1.],\n         [1., 1., 1.]],\n\n        [[1., 1., 1.],\n         [1., 1., 1.],\n         [1., 1., 1.]]]])"
                    },
                    "metadata": {}
                }
            ]
        },
        {
            "metadata": {},
            "cell_type": "code",
            "source": "c = np.ones([2,2,2,3,3])",
            "execution_count": 6,
            "outputs": []
        },
        {
            "metadata": {},
            "cell_type": "code",
            "source": "c",
            "execution_count": 7,
            "outputs": [
                {
                    "output_type": "execute_result",
                    "execution_count": 7,
                    "data": {
                        "text/plain": "array([[[[[1., 1., 1.],\n          [1., 1., 1.],\n          [1., 1., 1.]],\n\n         [[1., 1., 1.],\n          [1., 1., 1.],\n          [1., 1., 1.]]],\n\n\n        [[[1., 1., 1.],\n          [1., 1., 1.],\n          [1., 1., 1.]],\n\n         [[1., 1., 1.],\n          [1., 1., 1.],\n          [1., 1., 1.]]]],\n\n\n\n       [[[[1., 1., 1.],\n          [1., 1., 1.],\n          [1., 1., 1.]],\n\n         [[1., 1., 1.],\n          [1., 1., 1.],\n          [1., 1., 1.]]],\n\n\n        [[[1., 1., 1.],\n          [1., 1., 1.],\n          [1., 1., 1.]],\n\n         [[1., 1., 1.],\n          [1., 1., 1.],\n          [1., 1., 1.]]]]])"
                    },
                    "metadata": {}
                }
            ]
        },
        {
            "metadata": {},
            "cell_type": "code",
            "source": "import types\nimport pandas as pd\nfrom botocore.client import Config\nimport ibm_boto3\n\ndef __iter__(self): return 0\n\n# @hidden_cell\n# The following code accesses a file in your IBM Cloud Object Storage. It includes your credentials.\n# You might want to remove those credentials before you share the notebook.\n# rm credentials\n\n\nbody = client_e364cda5223243e58471d0943f25de0c.get_object(Bucket='ibmc2w3l1-donotdelete-pr-h5yaau91q3srxz',Key='CTDunknown.csv')['Body']\n# add missing __iter__ method, so pandas accepts body as file-like object\nif not hasattr(body, \"__iter__\"): body.__iter__ = types.MethodType( __iter__, body )\n\ndf_data_1 = pd.read_csv(body)\ndf_data_1.head()\n",
            "execution_count": 2,
            "outputs": [
                {
                    "output_type": "execute_result",
                    "execution_count": 2,
                    "data": {
                        "text/plain": "   p        S        t\n0  1  35.5419  27.4180\n1  3  35.5408  27.4281\n2  5  35.5441  27.4355\n3  7  35.5488  27.4374\n4  9  35.5524  27.4419",
                        "text/html": "<div>\n<style scoped>\n    .dataframe tbody tr th:only-of-type {\n        vertical-align: middle;\n    }\n\n    .dataframe tbody tr th {\n        vertical-align: top;\n    }\n\n    .dataframe thead th {\n        text-align: right;\n    }\n</style>\n<table border=\"1\" class=\"dataframe\">\n  <thead>\n    <tr style=\"text-align: right;\">\n      <th></th>\n      <th>p</th>\n      <th>S</th>\n      <th>t</th>\n    </tr>\n  </thead>\n  <tbody>\n    <tr>\n      <th>0</th>\n      <td>1</td>\n      <td>35.5419</td>\n      <td>27.4180</td>\n    </tr>\n    <tr>\n      <th>1</th>\n      <td>3</td>\n      <td>35.5408</td>\n      <td>27.4281</td>\n    </tr>\n    <tr>\n      <th>2</th>\n      <td>5</td>\n      <td>35.5441</td>\n      <td>27.4355</td>\n    </tr>\n    <tr>\n      <th>3</th>\n      <td>7</td>\n      <td>35.5488</td>\n      <td>27.4374</td>\n    </tr>\n    <tr>\n      <th>4</th>\n      <td>9</td>\n      <td>35.5524</td>\n      <td>27.4419</td>\n    </tr>\n  </tbody>\n</table>\n</div>"
                    },
                    "metadata": {}
                }
            ]
        },
        {
            "metadata": {},
            "cell_type": "code",
            "source": "np.shape(df_data_1)",
            "execution_count": 8,
            "outputs": [
                {
                    "output_type": "execute_result",
                    "execution_count": 8,
                    "data": {
                        "text/plain": "(751, 3)"
                    },
                    "metadata": {}
                }
            ]
        },
        {
            "metadata": {},
            "cell_type": "code",
            "source": "",
            "execution_count": null,
            "outputs": []
        }
    ],
    "metadata": {
        "kernelspec": {
            "name": "python3",
            "display_name": "Python 3.7",
            "language": "python"
        },
        "language_info": {
            "name": "python",
            "version": "3.7.9",
            "mimetype": "text/x-python",
            "codemirror_mode": {
                "name": "ipython",
                "version": 3
            },
            "pygments_lexer": "ipython3",
            "nbconvert_exporter": "python",
            "file_extension": ".py"
        }
    },
    "nbformat": 4,
    "nbformat_minor": 1
}